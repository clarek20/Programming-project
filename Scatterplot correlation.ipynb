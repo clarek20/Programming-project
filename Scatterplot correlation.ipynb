{
 "cells": [
  {
   "cell_type": "code",
   "execution_count": 1,
   "metadata": {},
   "outputs": [
    {
     "data": {
      "text/html": [
       "<div>\n",
       "<style scoped>\n",
       "    .dataframe tbody tr th:only-of-type {\n",
       "        vertical-align: middle;\n",
       "    }\n",
       "\n",
       "    .dataframe tbody tr th {\n",
       "        vertical-align: top;\n",
       "    }\n",
       "\n",
       "    .dataframe thead th {\n",
       "        text-align: right;\n",
       "    }\n",
       "</style>\n",
       "<table border=\"1\" class=\"dataframe\">\n",
       "  <thead>\n",
       "    <tr style=\"text-align: right;\">\n",
       "      <th></th>\n",
       "      <th>actual_cost</th>\n",
       "      <th>ccg</th>\n",
       "      <th>date</th>\n",
       "      <th>items</th>\n",
       "      <th>quantity</th>\n",
       "      <th>row_id</th>\n",
       "      <th>row_name</th>\n",
       "      <th>setting</th>\n",
       "      <th>total_list_size</th>\n",
       "      <th>items_per_patient</th>\n",
       "    </tr>\n",
       "  </thead>\n",
       "  <tbody>\n",
       "    <tr>\n",
       "      <th>0</th>\n",
       "      <td>2856.64</td>\n",
       "      <td>14L</td>\n",
       "      <td>2014-10-01</td>\n",
       "      <td>417</td>\n",
       "      <td>18650</td>\n",
       "      <td>P84004</td>\n",
       "      <td>FIVE OAKS FAMILIY PRACTICE</td>\n",
       "      <td>4</td>\n",
       "      <td>8819</td>\n",
       "      <td>0.047284</td>\n",
       "    </tr>\n",
       "    <tr>\n",
       "      <th>1</th>\n",
       "      <td>919.79</td>\n",
       "      <td>14L</td>\n",
       "      <td>2014-10-01</td>\n",
       "      <td>203</td>\n",
       "      <td>8165</td>\n",
       "      <td>P84005</td>\n",
       "      <td>THE VALLANCE CENTRE</td>\n",
       "      <td>4</td>\n",
       "      <td>7223</td>\n",
       "      <td>0.028105</td>\n",
       "    </tr>\n",
       "    <tr>\n",
       "      <th>2</th>\n",
       "      <td>2063.74</td>\n",
       "      <td>14L</td>\n",
       "      <td>2014-10-01</td>\n",
       "      <td>357</td>\n",
       "      <td>17084</td>\n",
       "      <td>P84009</td>\n",
       "      <td>AILSA CRAIG MEDICAL CENTRE</td>\n",
       "      <td>4</td>\n",
       "      <td>9342</td>\n",
       "      <td>0.038215</td>\n",
       "    </tr>\n",
       "    <tr>\n",
       "      <th>3</th>\n",
       "      <td>1873.21</td>\n",
       "      <td>14L</td>\n",
       "      <td>2014-10-01</td>\n",
       "      <td>423</td>\n",
       "      <td>17154</td>\n",
       "      <td>P84010</td>\n",
       "      <td>THE BORCHARDT MEDICAL CENTRE</td>\n",
       "      <td>4</td>\n",
       "      <td>11108</td>\n",
       "      <td>0.038081</td>\n",
       "    </tr>\n",
       "    <tr>\n",
       "      <th>4</th>\n",
       "      <td>2992.22</td>\n",
       "      <td>14L</td>\n",
       "      <td>2014-10-01</td>\n",
       "      <td>644</td>\n",
       "      <td>28069</td>\n",
       "      <td>P84012</td>\n",
       "      <td>NORTHENDEN GROUP PRACTICE</td>\n",
       "      <td>4</td>\n",
       "      <td>11028</td>\n",
       "      <td>0.058397</td>\n",
       "    </tr>\n",
       "  </tbody>\n",
       "</table>\n",
       "</div>"
      ],
      "text/plain": [
       "   actual_cost  ccg       date  items  quantity  row_id  \\\n",
       "0      2856.64  14L 2014-10-01    417     18650  P84004   \n",
       "1       919.79  14L 2014-10-01    203      8165  P84005   \n",
       "2      2063.74  14L 2014-10-01    357     17084  P84009   \n",
       "3      1873.21  14L 2014-10-01    423     17154  P84010   \n",
       "4      2992.22  14L 2014-10-01    644     28069  P84012   \n",
       "\n",
       "                       row_name  setting  total_list_size  items_per_patient  \n",
       "0    FIVE OAKS FAMILIY PRACTICE        4             8819           0.047284  \n",
       "1           THE VALLANCE CENTRE        4             7223           0.028105  \n",
       "2    AILSA CRAIG MEDICAL CENTRE        4             9342           0.038215  \n",
       "3  THE BORCHARDT MEDICAL CENTRE        4            11108           0.038081  \n",
       "4     NORTHENDEN GROUP PRACTICE        4            11028           0.058397  "
      ]
     },
     "execution_count": 1,
     "metadata": {},
     "output_type": "execute_result"
    }
   ],
   "source": [
    "import api\n",
    "import pandas as pd\n",
    "import matplotlib.pyplot as mpl\n",
    "df2 = api.get_merged_dataframe('14L', '5.1')\n",
    "#14L to select Manchester CCG and 5.1 to select Antibacterial group\n",
    "df2.head()"
   ]
  },
  {
   "cell_type": "code",
   "execution_count": 15,
   "metadata": {},
   "outputs": [
    {
     "data": {
      "image/png": "[encoded data removed]",
      "text/plain": [
       "<Figure size 432x288 with 1 Axes>"
      ]
     },
     "metadata": {
      "needs_background": "light"
     },
     "output_type": "display_data"
    }
   ],
   "source": [
    "import matplotlib.dates as mdates\n",
    "\n",
    "practice = \"HAWTHORN MC\"\n",
    "#used get_practice_info from api.py to search for practices and retrieve practice code \n",
    "practice_code = api.get_practice_info(practice)[\"code\"]\n",
    "year = 2018\n",
    "#convert pandas data to numpydatetime frame to allow months on axes \n",
    "df2[\"date\"] = pd.to_datetime(df2[\"date\"])\n",
    "#add extra column containing year to allow filtering by year \n",
    "df2[\"year\"] = [d.year for d in df2['date']]\n",
    "#filter table based on year variable\n",
    "df = df2[df2.year == year]\n",
    "#filter table based on practice code\n",
    "df = df[df.row_id == practice_code]\n",
    "\n",
    "#make new figure \n",
    "fig = mpl.scatter(df[\"date\"], df[\"items_per_patient\"], edgecolors='none', )\n",
    "#rotate labels on xaxis so months are legible\n",
    "mpl.xticks(rotation=90)\n",
    "ax = fig.axes\n",
    "#set x and y axes labels and title of graph\n",
    "ax.set_xlabel('Month')\n",
    "ax.set_ylabel('Prescriptions per 1,000 patients')\n",
    "ax.set_title(f'Prescriptions over {year} for {practice}')\n",
    "#converted years to months\n",
    "ax.xaxis.set_major_formatter(mdates.DateFormatter('%B'))\n",
    "#Displays every month on axis \n",
    "ax.xaxis.set_major_locator(mdates.MonthLocator())"
   ]
  },
  {
   "cell_type": "code",
   "execution_count": null,
   "metadata": {},
   "outputs": [],
   "source": []
  }
 ],
 "metadata": {
  "kernelspec": {
   "display_name": "Python 3",
   "language": "python",
   "name": "python3"
  },
  "language_info": {
   "codemirror_mode": {
    "name": "ipython",
    "version": 3
   },
   "file_extension": ".py",
   "mimetype": "text/x-python",
   "name": "python",
   "nbconvert_exporter": "python",
   "pygments_lexer": "ipython3",
   "version": "3.7.3"
  }
 },
 "nbformat": 4,
 "nbformat_minor": 2
}
