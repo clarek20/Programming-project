{
 "cells": [
  {
   "cell_type": "code",
   "execution_count": 2,
   "metadata": {},
   "outputs": [],
   "source": [
    "import api\n",
    "%matplotlib inline\n",
    "import matplotlib as mpl\n",
    "import matplotlib.pyplot as mplpt\n",
    "import pandas as pd\n",
    "import matplotlib.dates as mdates"
   ]
  },
  {
   "cell_type": "code",
   "execution_count": 69,
   "metadata": {},
   "outputs": [
    {
     "ename": "IndentationError",
     "evalue": "unexpected indent (<ipython-input-69-902765151d82>, line 14)",
     "output_type": "error",
     "traceback": [
      "\u001b[0;36m  File \u001b[0;32m\"<ipython-input-69-902765151d82>\"\u001b[0;36m, line \u001b[0;32m14\u001b[0m\n\u001b[0;31m    return plot\u001b[0m\n\u001b[0m    ^\u001b[0m\n\u001b[0;31mIndentationError\u001b[0m\u001b[0;31m:\u001b[0m unexpected indent\n"
     ]
    }
   ],
   "source": [
    "#def display_data_spread(ccg='14L', bnf='5.1'):\n",
    "    #df = api.get_merged_dataframe('14L', '5.1')\n",
    "    #df[\"items_per_patient\"] = df[\"items\"] / df[\"total_list_size\"]\n",
    "    #df[\"date\"] = pd.to_datetime(df[\"date\"])\n",
    "    #df[\"month\"] = [d.month for d in df['date']]\n",
    "        \n",
    "    #plot = df.plot.box(by = 'month')\n",
    "    #converted years to months\n",
    "    #ax.xaxis.set_major_formatter(mdates.DateFormatter('%B'))\n",
    "    #Displays every month on axis \n",
    "    #ax.xaxis.set_major_locator(mdates.MonthLocator())\n",
    "    #ax.set.title = \"Prescriptions by each practice over time\"\n",
    "   \n",
    "    return plot\n",
    "\n",
    "plot = display_data_spread('14L', '5.1')"
   ]
  },
  {
   "cell_type": "code",
   "execution_count": 3,
   "metadata": {},
   "outputs": [
    {
     "data": {
      "image/png": "[encoded data removed]",
      "text/plain": [
       "<Figure size 432x288 with 1 Axes>"
      ]
     },
     "metadata": {
      "needs_background": "light"
     },
     "output_type": "display_data"
    }
   ],
   "source": [
    "def display_boxplot(ccg='14L', bnf = '5.1', year = False):\n",
    "    ccg_info = api.get_ccg_info(ccg)\n",
    "    bnf_info = api.get_bnf_info(bnf)\n",
    "    df = api.get_merged_dataframe('14L', '5.1')\n",
    "    df[\"items_per_patient\"] = df[\"items\"] / df[\"total_list_size\"]\n",
    "    df[\"date\"] = pd.to_datetime(df[\"date\"])\n",
    "    df[\"month\"] = [d.month for d in df['date']]\n",
    "    df[\"year\"] = [d.year for d in df['date']]\n",
    "    if year:\n",
    "        df = df[df.year == year]\n",
    "    plot = df.boxplot(column = 'items_per_patient', by = 'month')\n",
    "    plot.set_title(f\"Prescriptions of {bnf} per patient across {ccg_info['name']} for {year}\")\n",
    "    plot.figure.suptitle('')\n",
    "    \n",
    "    return plot\n",
    "\n",
    "\n",
    "plot = display_boxplot('14L', '5.1', year = 2015)"
   ]
  },
  {
   "cell_type": "code",
   "execution_count": null,
   "metadata": {},
   "outputs": [],
   "source": [
    "plot."
   ]
  }
 ],
 "metadata": {
  "kernelspec": {
   "display_name": "Python 3",
   "language": "python",
   "name": "python3"
  },
  "language_info": {
   "codemirror_mode": {
    "name": "ipython",
    "version": 3
   },
   "file_extension": ".py",
   "mimetype": "text/x-python",
   "name": "python",
   "nbconvert_exporter": "python",
   "pygments_lexer": "ipython3",
   "version": "3.7.3"
  }
 },
 "nbformat": 4,
 "nbformat_minor": 2
}
