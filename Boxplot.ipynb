{
 "cells": [
  {
   "cell_type": "code",
   "execution_count": 36,
   "metadata": {},
   "outputs": [],
   "source": [
    "import api\n",
    "%matplotlib inline\n",
    "import matplotlib as mpl\n",
    "import matplotlib.pyplot as mplpt\n",
    "import pandas as pd\n",
    "import matplotlib.dates as mdates"
   ]
  },
  {
   "cell_type": "code",
   "execution_count": 33,
   "metadata": {},
   "outputs": [],
   "source": [
    "#def display_data_spread(ccg='14L', bnf='5.1'):\n",
    "    #df = api.get_merged_dataframe('14L', '5.1')\n",
    "    #df[\"items_per_patient\"] = df[\"items\"] / df[\"total_list_size\"]\n",
    "    #df[\"date\"] = pd.to_datetime(df[\"date\"])\n",
    "    #df[\"month\"] = [d.month for d in df['date']]\n",
    "        \n",
    "    #plot = df.plot.box(by = 'month')\n",
    "    #converted years to months\n",
    "    #ax.xaxis.set_major_formatter(mdates.DateFormatter('%B'))\n",
    "    #Displays every month on axis \n",
    "    #ax.xaxis.set_major_locator(mdates.MonthLocator())\n",
    "    #ax.set.title = \"Prescriptions by each practice over time\"\n",
    "   \n",
    "    return plot\n",
    "\n",
    "plot = display_data_spread('14L', '5.1')"
   ]
  },
  {
   "cell_type": "code",
   "execution_count": 67,
   "metadata": {},
   "outputs": [
    {
     "ename": "NameError",
     "evalue": "name 'get_ccg_info' is not defined",
     "output_type": "error",
     "traceback": [
      "\u001b[0;31m---------------------------------------------------------------------------\u001b[0m",
      "\u001b[0;31mNameError\u001b[0m                                 Traceback (most recent call last)",
      "\u001b[0;32m<ipython-input-67-b64b563aba61>\u001b[0m in \u001b[0;36m<module>\u001b[0;34m\u001b[0m\n\u001b[1;32m     16\u001b[0m \u001b[0;34m\u001b[0m\u001b[0m\n\u001b[1;32m     17\u001b[0m \u001b[0;34m\u001b[0m\u001b[0m\n\u001b[0;32m---> 18\u001b[0;31m \u001b[0mplot\u001b[0m \u001b[0;34m=\u001b[0m \u001b[0mdisplay_boxplot\u001b[0m\u001b[0;34m(\u001b[0m\u001b[0;34m'14L'\u001b[0m\u001b[0;34m,\u001b[0m \u001b[0;34m'5.1'\u001b[0m\u001b[0;34m,\u001b[0m \u001b[0myear\u001b[0m \u001b[0;34m=\u001b[0m \u001b[0;36m2015\u001b[0m\u001b[0;34m)\u001b[0m\u001b[0;34m\u001b[0m\u001b[0;34m\u001b[0m\u001b[0m\n\u001b[0m",
      "\u001b[0;32m<ipython-input-67-b64b563aba61>\u001b[0m in \u001b[0;36mdisplay_boxplot\u001b[0;34m(ccg, bnf, year)\u001b[0m\n\u001b[1;32m      1\u001b[0m \u001b[0;32mdef\u001b[0m \u001b[0mdisplay_boxplot\u001b[0m\u001b[0;34m(\u001b[0m\u001b[0mccg\u001b[0m\u001b[0;34m=\u001b[0m\u001b[0;34m'14L'\u001b[0m\u001b[0;34m,\u001b[0m \u001b[0mbnf\u001b[0m \u001b[0;34m=\u001b[0m \u001b[0;34m'5.1'\u001b[0m\u001b[0;34m,\u001b[0m \u001b[0myear\u001b[0m \u001b[0;34m=\u001b[0m \u001b[0;32mFalse\u001b[0m\u001b[0;34m)\u001b[0m\u001b[0;34m:\u001b[0m\u001b[0;34m\u001b[0m\u001b[0;34m\u001b[0m\u001b[0m\n\u001b[0;32m----> 2\u001b[0;31m     \u001b[0mccg_info\u001b[0m \u001b[0;34m=\u001b[0m \u001b[0mget_ccg_info\u001b[0m\u001b[0;34m(\u001b[0m\u001b[0mccg\u001b[0m\u001b[0;34m)\u001b[0m\u001b[0;34m\u001b[0m\u001b[0;34m\u001b[0m\u001b[0m\n\u001b[0m\u001b[1;32m      3\u001b[0m     \u001b[0;31m#bnf_info = get_bnf_info(bnf)\u001b[0m\u001b[0;34m\u001b[0m\u001b[0;34m\u001b[0m\u001b[0;34m\u001b[0m\u001b[0m\n\u001b[1;32m      4\u001b[0m     \u001b[0mdf\u001b[0m \u001b[0;34m=\u001b[0m \u001b[0mapi\u001b[0m\u001b[0;34m.\u001b[0m\u001b[0mget_merged_dataframe\u001b[0m\u001b[0;34m(\u001b[0m\u001b[0;34m'14L'\u001b[0m\u001b[0;34m,\u001b[0m \u001b[0;34m'5.1'\u001b[0m\u001b[0;34m)\u001b[0m\u001b[0;34m\u001b[0m\u001b[0;34m\u001b[0m\u001b[0m\n\u001b[1;32m      5\u001b[0m     \u001b[0mdf\u001b[0m\u001b[0;34m[\u001b[0m\u001b[0;34m\"items_per_patient\"\u001b[0m\u001b[0;34m]\u001b[0m \u001b[0;34m=\u001b[0m \u001b[0mdf\u001b[0m\u001b[0;34m[\u001b[0m\u001b[0;34m\"items\"\u001b[0m\u001b[0;34m]\u001b[0m \u001b[0;34m/\u001b[0m \u001b[0mdf\u001b[0m\u001b[0;34m[\u001b[0m\u001b[0;34m\"total_list_size\"\u001b[0m\u001b[0;34m]\u001b[0m\u001b[0;34m\u001b[0m\u001b[0;34m\u001b[0m\u001b[0m\n",
      "\u001b[0;31mNameError\u001b[0m: name 'get_ccg_info' is not defined"
     ]
    }
   ],
   "source": [
    "def display_boxplot(ccg='14L', bnf = '5.1', year = False):\n",
    "    ccg_info = get_ccg_info(ccg)\n",
    "    #bnf_info = get_bnf_info(bnf)\n",
    "    df = api.get_merged_dataframe('14L', '5.1')\n",
    "    df[\"items_per_patient\"] = df[\"items\"] / df[\"total_list_size\"]\n",
    "    df[\"date\"] = pd.to_datetime(df[\"date\"])\n",
    "    df[\"month\"] = [d.month for d in df['date']]\n",
    "    df[\"year\"] = [d.year for d in df['date']]\n",
    "    if year:\n",
    "        df = df[df.year == year]\n",
    "    plot = df.boxplot(column = 'items_per_patient', by = 'month')\n",
    "    plot.set_title(f\"Prescriptions of {bnf} per patient across {ccg_info['name']} for {year}\")\n",
    "    plot.figure.suptitle('')\n",
    "    \n",
    "    return plot\n",
    "\n",
    "\n",
    "plot = display_boxplot('14L', '5.1', year = 2015)"
   ]
  },
  {
   "cell_type": "code",
   "execution_count": null,
   "metadata": {},
   "outputs": [],
   "source": [
    "plot."
   ]
  }
 ],
 "metadata": {
  "kernelspec": {
   "display_name": "Python 3",
   "language": "python",
   "name": "python3"
  },
  "language_info": {
   "codemirror_mode": {
    "name": "ipython",
    "version": 3
   },
   "file_extension": ".py",
   "mimetype": "text/x-python",
   "name": "python",
   "nbconvert_exporter": "python",
   "pygments_lexer": "ipython3",
   "version": "3.7.3"
  }
 },
 "nbformat": 4,
 "nbformat_minor": 2
}
